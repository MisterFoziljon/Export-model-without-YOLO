{
 "cells": [
  {
   "cell_type": "code",
   "execution_count": null,
   "id": "1acaa8a6-3749-49c4-a1b2-979beff99ac6",
   "metadata": {},
   "outputs": [],
   "source": [
    "import torch\n",
    "import cv2\n",
    "import numpy as np\n",
    "from RT.models import EngineBuilder\n",
    "from RT.models.cudart_api import TRTEngine\n",
    "from RT.models.utils import blob\n",
    "from RT.models.torch_utils import det_postprocess"
   ]
  },
  {
   "cell_type": "raw",
   "id": "472d75ae-82fc-4c9f-b4e0-8440cea3ac34",
   "metadata": {},
   "source": [
    "Firstly, use pt to onnx notebook"
   ]
  },
  {
   "cell_type": "code",
   "execution_count": null,
   "id": "618c75d0-833c-4f66-952a-92be5d73d2cf",
   "metadata": {},
   "outputs": [],
   "source": [
    "model_name = \"models/face_detection_model.onnx\"\n",
    "device = torch.device(\"cuda:0\" if torch.cuda.is_available() else \"cpu\")\n",
    "input_shape = (1, 3, 640, 640)"
   ]
  },
  {
   "cell_type": "code",
   "execution_count": null,
   "id": "4c126605-e86d-4a56-abb4-ae330042798f",
   "metadata": {},
   "outputs": [],
   "source": [
    "builder = EngineBuilder(model_name, device)\n",
    "builder.seg = True\n",
    "builder.build(fp16=True,\n",
    "              input_shape=list(input_shape),\n",
    "              iou_thres=0.65,\n",
    "              conf_thres=0.25,\n",
    "              topk=100)"
   ]
  },
  {
   "cell_type": "code",
   "execution_count": null,
   "id": "cbca4a58-c6e6-413b-b452-03fd98096ed0",
   "metadata": {},
   "outputs": [],
   "source": [
    "def ImageBox(image, new_shape=(640, 640), color=(0, 0, 0)):\n",
    "    \n",
    "    width, height, channel = image.shape\n",
    "    \n",
    "    ratio = min(new_shape[0] / width, new_shape[1] / height)\n",
    "    \n",
    "    new_unpad = int(round(height * ratio)), int(round(width * ratio))\n",
    "    \n",
    "    dw, dh = (new_shape[0] - new_unpad[0])/2, (new_shape[1] - new_unpad[1])/2\n",
    "\n",
    "    if (height, width) != new_unpad:\n",
    "        image = cv2.resize(image, new_unpad, interpolation=cv2.INTER_LINEAR)\n",
    "    \n",
    "    top, bottom = int(round(dh - 0.1)), int(round(dh + 0.1))\n",
    "    left, right = int(round(dw - 0.1)), int(round(dw + 0.1))\n",
    "    \n",
    "    image = cv2.copyMakeBorder(image, top, bottom, left, right, cv2.BORDER_CONSTANT, value=color)\n",
    "    \n",
    "    return image, ratio, (dw, dh)"
   ]
  },
  {
   "cell_type": "code",
   "execution_count": null,
   "id": "21e525a7-e5bc-4533-aa96-6e6e47d464a8",
   "metadata": {},
   "outputs": [],
   "source": [
    "enggine = TRTEngine('models/face_detection_model.engine')\n",
    "H, W = enggine.inp_info[0].shape[-2:]"
   ]
  },
  {
   "cell_type": "code",
   "execution_count": null,
   "id": "9c380270-9b66-4396-b4f9-7807371e3ddc",
   "metadata": {},
   "outputs": [],
   "source": [
    "image = cv2.imread(\"image.jpg\")\n",
    "image, ratio, dwdh = ImageBox(image)"
   ]
  },
  {
   "cell_type": "code",
   "execution_count": null,
   "id": "ea38357c-3f1c-4d45-b90e-48d663e728d5",
   "metadata": {},
   "outputs": [],
   "source": [
    "image = cv2.cvtColor(image, cv2.COLOR_BGR2RGB)"
   ]
  },
  {
   "cell_type": "code",
   "execution_count": null,
   "id": "c8b6a6e8-0c3e-4838-917a-4fd476fbcb91",
   "metadata": {},
   "outputs": [],
   "source": [
    "tensor = blob(image, return_seg=False)\n",
    "tensor = torch.asarray(tensor)"
   ]
  },
  {
   "cell_type": "code",
   "execution_count": null,
   "id": "8a91a5fc-27b5-490b-babb-2935f6ecf587",
   "metadata": {},
   "outputs": [],
   "source": [
    "dwdh = np.array(dwdh * 2, dtype=np.float32)"
   ]
  },
  {
   "cell_type": "code",
   "execution_count": null,
   "id": "e065aca2-56a4-4167-967c-ed276f6c1fd9",
   "metadata": {},
   "outputs": [],
   "source": [
    "results = enggine(tensor)"
   ]
  },
  {
   "cell_type": "code",
   "execution_count": null,
   "id": "a0f3322d-6a09-4029-8764-85da3496ab4e",
   "metadata": {},
   "outputs": [],
   "source": [
    "results"
   ]
  }
 ],
 "metadata": {
  "kernelspec": {
   "display_name": "Python 3 (ipykernel)",
   "language": "python",
   "name": "python3"
  },
  "language_info": {
   "codemirror_mode": {
    "name": "ipython",
    "version": 3
   },
   "file_extension": ".py",
   "mimetype": "text/x-python",
   "name": "python",
   "nbconvert_exporter": "python",
   "pygments_lexer": "ipython3",
   "version": "3.10.12"
  }
 },
 "nbformat": 4,
 "nbformat_minor": 5
}
