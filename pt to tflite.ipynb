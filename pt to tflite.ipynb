{
 "cells": [
  {
   "cell_type": "code",
   "execution_count": null,
   "id": "dd55d497-8a7c-4a02-96ec-597cbcfed69f",
   "metadata": {},
   "outputs": [],
   "source": [
    "import tensorflow as tf\n",
    "import numpy as np"
   ]
  },
  {
   "cell_type": "raw",
   "id": "4b9c6dbe-92ec-4f43-9e47-7c39e62b5efd",
   "metadata": {},
   "source": [
    "Firstly, use pt to saved_model notebook"
   ]
  },
  {
   "cell_type": "code",
   "execution_count": null,
   "id": "2e152901-325c-417c-a539-0735980e6295",
   "metadata": {},
   "outputs": [],
   "source": [
    "converter =  tf.lite.TFLiteConverter.from_saved_model(\"models/saved_model_tensorflow\")\n",
    "tflite_rep = converter.convert()"
   ]
  },
  {
   "cell_type": "code",
   "execution_count": null,
   "id": "df789078-b821-4371-adf7-f244621e4489",
   "metadata": {},
   "outputs": [],
   "source": [
    "tflite_path = \"models/saved_model_tensorflow/tflite_model.tflite\"\n",
    "open(tflite_path, \"wb\").write(tflite_rep)"
   ]
  },
  {
   "cell_type": "code",
   "execution_count": null,
   "id": "698b97a6-312e-42a1-9c99-70ac669b684f",
   "metadata": {},
   "outputs": [],
   "source": [
    "interpreter = tf.lite.Interpreter(model_path=tflite_path)\n",
    "interpreter.allocate_tensors()"
   ]
  },
  {
   "cell_type": "code",
   "execution_count": null,
   "id": "2fa5e0f3-3042-4fb7-ac77-09833189f3be",
   "metadata": {},
   "outputs": [],
   "source": [
    "input_details = interpreter.get_input_details()\n",
    "input_details"
   ]
  },
  {
   "cell_type": "code",
   "execution_count": null,
   "id": "6f75ac22-05d8-4165-ad05-968451bff339",
   "metadata": {},
   "outputs": [],
   "source": [
    "output_details = interpreter.get_output_details()\n",
    "output_details"
   ]
  },
  {
   "cell_type": "code",
   "execution_count": null,
   "id": "d2f715e7-81f5-4a6a-be0d-5b8b9b5a7196",
   "metadata": {},
   "outputs": [],
   "source": [
    "input_shape = input_details[0]['shape']\n",
    "input_shape"
   ]
  },
  {
   "cell_type": "code",
   "execution_count": null,
   "id": "485b2691-9161-4784-9d65-0d8a93cd442b",
   "metadata": {},
   "outputs": [],
   "source": [
    "input_data = np.array(np.random.random_sample(input_shape), dtype=np.float32)\n",
    "input_data"
   ]
  },
  {
   "cell_type": "code",
   "execution_count": null,
   "id": "4cc8c2f7-14c4-4835-a1e3-96217bbdfaef",
   "metadata": {},
   "outputs": [],
   "source": [
    "interpreter.set_tensor(input_details[0]['index'], input_data)\n",
    "interpreter.invoke()"
   ]
  },
  {
   "cell_type": "code",
   "execution_count": null,
   "id": "030bc60d-e6da-4003-8572-403aa06802c6",
   "metadata": {},
   "outputs": [],
   "source": [
    "output_data = interpreter.get_tensor(output_details[0]['index'])\n",
    "print(output_data)"
   ]
  }
 ],
 "metadata": {
  "kernelspec": {
   "display_name": "Python 3 (ipykernel)",
   "language": "python",
   "name": "python3"
  },
  "language_info": {
   "codemirror_mode": {
    "name": "ipython",
    "version": 3
   },
   "file_extension": ".py",
   "mimetype": "text/x-python",
   "name": "python",
   "nbconvert_exporter": "python",
   "pygments_lexer": "ipython3",
   "version": "3.10.12"
  }
 },
 "nbformat": 4,
 "nbformat_minor": 5
}
