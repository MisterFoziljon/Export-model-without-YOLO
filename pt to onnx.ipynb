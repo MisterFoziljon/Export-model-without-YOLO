{
 "cells": [
  {
   "cell_type": "code",
   "execution_count": null,
   "id": "2e29f006-9913-4cd6-949d-14fae10870cf",
   "metadata": {},
   "outputs": [],
   "source": [
    "import onnx\n",
    "import torch"
   ]
  },
  {
   "cell_type": "code",
   "execution_count": null,
   "id": "b57187b2-b9d3-43a4-87b8-a4c1b4cb8ab8",
   "metadata": {},
   "outputs": [],
   "source": [
    "device = torch.device(\"cpu\")"
   ]
  },
  {
   "cell_type": "code",
   "execution_count": null,
   "id": "bf101658-89c4-4cac-9d79-6336b360d567",
   "metadata": {},
   "outputs": [],
   "source": [
    "fake_input = (1, 3, 640, 640)\n",
    "fake_data = torch.zeros(fake_input)"
   ]
  },
  {
   "cell_type": "code",
   "execution_count": null,
   "id": "1f96cbcb-82fc-41fd-b8ec-c2b06aec8023",
   "metadata": {},
   "outputs": [],
   "source": [
    "pt_model_name = \"models/face_detection_model.pt\"\n",
    "pt_model = torch.load(pt_model_name, map_location=device)['model'].float()"
   ]
  },
  {
   "cell_type": "code",
   "execution_count": null,
   "id": "d001400f-d555-4f85-af39-fe52690bde88",
   "metadata": {},
   "outputs": [],
   "source": [
    "onnx_model_name = pt_model_name.replace(\".pt\",\".onnx\")\n",
    "torch.onnx.export(pt_model, \n",
    "                  fake_data, \n",
    "                  onnx_model_name, \n",
    "                  opset_version=12,\n",
    "                  input_names=['images'],\n",
    "                  output_names=['num_dets', 'bboxes', 'scores', 'labels'])"
   ]
  },
  {
   "cell_type": "code",
   "execution_count": null,
   "id": "25d7450e-a630-4b72-b8a3-1288cd3a3790",
   "metadata": {},
   "outputs": [],
   "source": [
    "import onnxruntime"
   ]
  },
  {
   "cell_type": "code",
   "execution_count": null,
   "id": "3f1f22d3-b3a8-4365-b7ae-8986b518c7bd",
   "metadata": {},
   "outputs": [],
   "source": [
    "opt_session = onnxruntime.SessionOptions()\n",
    "opt_session.enable_mem_pattern = True\n",
    "opt_session.enable_cpu_mem_arena = True\n",
    "opt_session.graph_optimization_level = onnxruntime.GraphOptimizationLevel.ORT_ENABLE_EXTENDED"
   ]
  },
  {
   "cell_type": "code",
   "execution_count": null,
   "id": "6549d05d-10e2-40e7-a81f-7511346d4ace",
   "metadata": {},
   "outputs": [],
   "source": [
    "ort_session = onnxruntime.InferenceSession(onnx_model_name, providers=['CPUExecutionProvider'])"
   ]
  },
  {
   "cell_type": "code",
   "execution_count": null,
   "id": "7c8ffc24-931a-4f8c-888f-cffd472fe10f",
   "metadata": {},
   "outputs": [],
   "source": [
    "model_inputs = ort_session.get_inputs()\n",
    "input_names = [model_inputs[i].name for i in range(len(model_inputs))]\n",
    "input_names"
   ]
  },
  {
   "cell_type": "code",
   "execution_count": null,
   "id": "11311205-0da4-4512-b0c1-d0e0986080b4",
   "metadata": {},
   "outputs": [],
   "source": [
    "model_output = ort_session.get_outputs()\n",
    "output_names = [model_output[i].name for i in range(len(model_output))]\n",
    "output_names"
   ]
  },
  {
   "cell_type": "code",
   "execution_count": null,
   "id": "fe4ed128-5891-4aab-a920-91720ff91732",
   "metadata": {},
   "outputs": [],
   "source": [
    "ort_inputs = {input_names[0]: fake_data.numpy()}\n",
    "ort_outputs = ort_session.run(output_names, ort_inputs)\n",
    "\n",
    "print(ort_outputs)"
   ]
  }
 ],
 "metadata": {
  "kernelspec": {
   "display_name": "Python 3 (ipykernel)",
   "language": "python",
   "name": "python3"
  },
  "language_info": {
   "codemirror_mode": {
    "name": "ipython",
    "version": 3
   },
   "file_extension": ".py",
   "mimetype": "text/x-python",
   "name": "python",
   "nbconvert_exporter": "python",
   "pygments_lexer": "ipython3",
   "version": "3.10.12"
  }
 },
 "nbformat": 4,
 "nbformat_minor": 5
}
