{
 "cells": [
  {
   "cell_type": "code",
   "execution_count": null,
   "id": "1406b5c4-893a-4939-a604-b699c88fa464",
   "metadata": {},
   "outputs": [],
   "source": [
    "import onnx\n",
    "import tensorflow as tf\n",
    "from onnx_tf.backend import prepare\n",
    "import cv2"
   ]
  },
  {
   "cell_type": "raw",
   "id": "a04c2e68-9e18-4dfa-b090-986f14212f50",
   "metadata": {},
   "source": [
    "Firstly, use pt to onnx notebook"
   ]
  },
  {
   "cell_type": "code",
   "execution_count": null,
   "id": "18bbcef5-b549-449d-a36a-e35a8fc26970",
   "metadata": {},
   "outputs": [],
   "source": [
    "onnx_model_name = \"models/face_detection_model.onnx\"\n",
    "onnx_model = onnx.load(onnx_model_name)"
   ]
  },
  {
   "cell_type": "code",
   "execution_count": null,
   "id": "af3ed8b2-e052-47bf-93ce-faad7ff62181",
   "metadata": {},
   "outputs": [],
   "source": [
    "print(onnx_model)"
   ]
  },
  {
   "cell_type": "code",
   "execution_count": null,
   "id": "59910a76-79ac-4669-95ad-b3e621f64108",
   "metadata": {},
   "outputs": [],
   "source": [
    "tf_rep = prepare(onnx_model)"
   ]
  },
  {
   "cell_type": "code",
   "execution_count": null,
   "id": "baa6518f-70b5-4245-9ebd-a73a866bb955",
   "metadata": {},
   "outputs": [],
   "source": [
    "saved_model_name = \"models/saved_model_tensorflow\"\n",
    "tf_rep.export_graph(saved_model_name)"
   ]
  },
  {
   "cell_type": "code",
   "execution_count": null,
   "id": "b57643b1-6846-4e78-a470-25c3ebd6b851",
   "metadata": {},
   "outputs": [],
   "source": [
    "tf_model = tf.saved_model.load(saved_model_name)"
   ]
  },
  {
   "cell_type": "code",
   "execution_count": null,
   "id": "d75901bb-f6bc-47f4-a421-cd2e961fd0fc",
   "metadata": {},
   "outputs": [],
   "source": [
    "list(tf_model.signatures.keys())"
   ]
  },
  {
   "cell_type": "code",
   "execution_count": null,
   "id": "02377b76-7340-42c0-b222-be450a6a877a",
   "metadata": {},
   "outputs": [],
   "source": [
    "tf_model.signatures[\"serving_default\"].inputs[0]"
   ]
  },
  {
   "cell_type": "code",
   "execution_count": null,
   "id": "8417b18b-5999-4eba-9e4e-91e218d5b0b0",
   "metadata": {},
   "outputs": [],
   "source": [
    "tf_model.signatures[\"serving_default\"].structured_outputs"
   ]
  }
 ],
 "metadata": {
  "kernelspec": {
   "display_name": "Python 3 (ipykernel)",
   "language": "python",
   "name": "python3"
  },
  "language_info": {
   "codemirror_mode": {
    "name": "ipython",
    "version": 3
   },
   "file_extension": ".py",
   "mimetype": "text/x-python",
   "name": "python",
   "nbconvert_exporter": "python",
   "pygments_lexer": "ipython3",
   "version": "3.10.12"
  }
 },
 "nbformat": 4,
 "nbformat_minor": 5
}
